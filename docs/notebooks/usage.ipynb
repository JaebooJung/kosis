{
 "cells": [
  {
   "cell_type": "code",
   "execution_count": 1,
   "metadata": {
    "collapsed": true,
    "pycharm": {
     "is_executing": false
    }
   },
   "outputs": [],
   "source": [
    "import kosis"
   ]
  },
  {
   "cell_type": "code",
   "execution_count": 2,
   "outputs": [
    {
     "data": {
      "text/plain": "[{'category': 'org',\n  'type': 'table',\n  'name': '펀드, 신탁, 시장성 상품 운용 비중(예치금융기관)',\n  'list_names': '중소기업은행 ; 중소기업금융실태조사 ; 2016년 이후',\n  'list_ids': '중소기업은행 ; 중소기업금융실태조사 ; 2016년 이후',\n  'id': 'DT_30303N_768',\n  'org_id': '303'},\n {'category': 'org',\n  'type': 'table',\n  'name': '펀드, 신탁, 시장성 상품 운용 비용(예치금융기관)',\n  'list_names': '중소기업은행 ; 중소기업금융실태조사 ; 2015년',\n  'list_ids': '중소기업은행 ; 중소기업금융실태조사 ; 2015년',\n  'id': 'DT_30303N_673',\n  'org_id': '303'},\n {'category': 'org',\n  'type': 'table',\n  'name': '펀드, 신탁 등 운용비중(예치금융기관)',\n  'list_names': '중소기업은행 ; 중소기업금융실태조사 ; 2015년 상반기',\n  'list_ids': '중소기업은행 ; 중소기업금융실태조사 ; 2015년 상반기',\n  'id': 'DT_30303N_5269',\n  'org_id': '303'},\n {'category': 'org',\n  'type': 'table',\n  'name': '펀드설정잔액(수탁고)',\n  'list_names': '한국금융투자협회 ; 펀드산업현황',\n  'list_ids': '한국금융투자협회 ; 펀드산업현황',\n  'id': 'DT_VC_KOSIS_EST',\n  'org_id': '325'}]"
     },
     "metadata": {},
     "output_type": "execute_result",
     "execution_count": 2
    }
   ],
   "source": [
    "kosis.search_tables(\"펀드\", category=\"org\")"
   ],
   "metadata": {
    "collapsed": false,
    "pycharm": {
     "name": "#%%\n",
     "is_executing": false
    }
   }
  },
  {
   "cell_type": "code",
   "execution_count": 3,
   "outputs": [
    {
     "data": {
      "text/plain": "{'table_name': '펀드설정잔액(수탁고)',\n 'org_name': '한국금융투자협회',\n 'item': [{'objId': '13101112834AMAK',\n   'objNm': '분류',\n   'itmId': '13102112834AMAK.1',\n   'itmNm': '설정원본'},\n  {'objId': '13101112834AMAK',\n   'objNm': '분류',\n   'itmId': '13102112834AMAK.2',\n   'itmNm': '순자산총액'},\n  {'objId': 'ITEM',\n   'objNm': '항목',\n   'objNmEng': 'Item code list',\n   'itmId': '13103112834T2',\n   'itmNm': '항목'}],\n 'duration': {'prdSe': ['일', '월', '년'],\n  'strtPrdDe': ['20040102', '1978.01', '1970'],\n  'endPrdDe': ['20190903', '2003.12', '1977']}}"
     },
     "metadata": {},
     "output_type": "execute_result",
     "execution_count": 3
    }
   ],
   "source": [
    "kosis.get_metainfo(\"325\", \"DT_VC_KOSIS_EST\")"
   ],
   "metadata": {
    "collapsed": false,
    "pycharm": {
     "name": "#%%\n",
     "is_executing": false
    }
   }
  },
  {
   "cell_type": "code",
   "execution_count": null,
   "outputs": [],
   "source": [
    "\n"
   ],
   "metadata": {
    "collapsed": false,
    "pycharm": {
     "name": "#%%\n"
    }
   }
  }
 ],
 "metadata": {
  "language_info": {
   "codemirror_mode": {
    "name": "ipython",
    "version": 2
   },
   "file_extension": ".py",
   "mimetype": "text/x-python",
   "name": "python",
   "nbconvert_exporter": "python",
   "pygments_lexer": "ipython2",
   "version": "2.7.6"
  },
  "kernelspec": {
   "name": "python3",
   "language": "python",
   "display_name": "Python 3"
  },
  "pycharm": {
   "stem_cell": {
    "cell_type": "raw",
    "source": [],
    "metadata": {
     "collapsed": false
    }
   }
  }
 },
 "nbformat": 4,
 "nbformat_minor": 0
}
