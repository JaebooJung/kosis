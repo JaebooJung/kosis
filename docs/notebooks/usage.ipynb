{
 "cells": [
  {
   "cell_type": "code",
   "execution_count": 1,
   "metadata": {
    "collapsed": true,
    "pycharm": {
     "is_executing": false
    }
   },
   "outputs": [],
   "source": [
    "import kosis"
   ]
  },
  {
   "cell_type": "code",
   "execution_count": 2,
   "outputs": [
    {
     "data": {
      "text/plain": "[{'category': 'topic',\n  'type': 'table',\n  'name': '전용면적별사용검사실적_월계',\n  'list_names': '건설·주택·토지;주택;주택건설실적통계;주택준공실적',\n  'list_ids': 'H;H2;116_11626;116_11626_003',\n  'id': 'DT_MLTM_5374',\n  'org_id': '116'},\n {'category': 'topic',\n  'type': 'table',\n  'name': '주택사용검사실적_월계',\n  'list_names': '건설·주택·토지;주택;주택건설실적통계;주택준공실적',\n  'list_ids': 'H;H2;116_11626;116_11626_003',\n  'id': 'DT_MLTM_5372',\n  'org_id': '116'},\n {'category': 'topic',\n  'type': 'table',\n  'name': '주택유형별사용검사실적_다가구 구분,월계',\n  'list_names': '건설·주택·토지;주택;주택건설실적통계;주택준공실적',\n  'list_ids': 'H;H2;116_11626;116_11626_003',\n  'id': 'DT_MLTM_5373',\n  'org_id': '116'}]"
     },
     "metadata": {},
     "output_type": "execute_result",
     "execution_count": 2
    }
   ],
   "source": [
    "kosis.search_tables(\"사용검사실적\")"
   ],
   "metadata": {
    "collapsed": false,
    "pycharm": {
     "name": "#%%\n",
     "is_executing": false
    }
   }
  },
  {
   "cell_type": "code",
   "execution_count": 3,
   "outputs": [
    {
     "name": "stdout",
     "text": [
      "├─ 전용면적별사용검사실적_월계 [table:DT_MLTM_5374]\n├─ 주택사용검사실적_월계 [table:DT_MLTM_5372]\n└─ 주택유형별사용검사실적_다가구 구분,월계 [table:DT_MLTM_5373]\n"
     ],
     "output_type": "stream"
    }
   ],
   "source": [
    "kosis.print_tree(\"116_11626_003\")"
   ],
   "metadata": {
    "collapsed": false,
    "pycharm": {
     "name": "#%%\n",
     "is_executing": false
    }
   }
  },
  {
   "cell_type": "code",
   "execution_count": 4,
   "outputs": [
    {
     "data": {
      "text/plain": "{'category': 'topic',\n 'type': 'table',\n 'name': '전용면적별사용검사실적_월계',\n 'list_names': '건설·주택·토지;주택;주택건설실적통계;주택준공실적',\n 'list_ids': 'H;H2;116_11626;116_11626_003',\n 'id': 'DT_MLTM_5374',\n 'org_id': '116'}"
     },
     "metadata": {},
     "output_type": "execute_result",
     "execution_count": 4
    }
   ],
   "source": [
    "kosis.search_tables_by_id(\"DT_MLTM_5374\")"
   ],
   "metadata": {
    "collapsed": false,
    "pycharm": {
     "name": "#%%\n",
     "is_executing": false
    }
   }
  },
  {
   "cell_type": "code",
   "execution_count": 5,
   "outputs": [
    {
     "data": {
      "text/plain": "{'table_name': '전용면적별사용검사실적_월계',\n 'org_name': '국토교통부',\n 'item': [{'objId': '13101766974A',\n   'objNm': '구  분',\n   'objNmEng': 'Classification',\n   'itmId': '13102766974A.0001',\n   'itmNm': '총계',\n   'itmNmEng': 'Total'},\n  {'objId': '13101766974B',\n   'objNm': '규모별',\n   'objNmEng': 'Size',\n   'itmId': '13102766974B.0001',\n   'itmNm': '계',\n   'itmNmEng': 'Total'},\n  {'objId': 'ITEM',\n   'objNm': '항목',\n   'objNmEng': 'Item code list',\n   'itmId': '13103766974T1',\n   'itmNm': '사용검사실적',\n   'itmNmEng': 'Housing use investigation by Area for Exclusive Use'},\n  {'objId': '13101766974A',\n   'objNm': '구  분',\n   'objNmEng': 'Classification',\n   'itmId': '13102766974A.0002',\n   'itmNm': '수도권소계',\n   'itmNmEng': 'Sub-Total for Capital Area'},\n  {'objId': '13101766974B',\n   'objNm': '규모별',\n   'objNmEng': 'Size',\n   'itmId': '13102766974B.0002',\n   'itmNm': '40㎡이하',\n   'itmNmEng': 'Under 40㎡'},\n  {'objId': '13101766974A',\n   'objNm': '구  분',\n   'objNmEng': 'Classification',\n   'itmId': '13102766974A.0003',\n   'itmNm': '서울',\n   'itmNmEng': 'Seoul'},\n  {'objId': '13101766974B',\n   'objNm': '규모별',\n   'objNmEng': 'Size',\n   'itmId': '13102766974B.0003',\n   'itmNm': '40~60㎡이하',\n   'itmNmEng': '40~60㎡'},\n  {'objId': '13101766974A',\n   'objNm': '구  분',\n   'objNmEng': 'Classification',\n   'itmId': '13102766974A.0004',\n   'itmNm': '인천',\n   'itmNmEng': 'Incheon'},\n  {'objId': '13101766974B',\n   'objNm': '규모별',\n   'objNmEng': 'Size',\n   'itmId': '13102766974B.0004',\n   'itmNm': '60~85㎡이하',\n   'itmNmEng': '60~85㎡'},\n  {'objId': '13101766974A',\n   'objNm': '구  분',\n   'objNmEng': 'Classification',\n   'itmId': '13102766974A.0005',\n   'itmNm': '경기',\n   'itmNmEng': 'Gyeonggi'},\n  {'objId': '13101766974B',\n   'objNm': '규모별',\n   'objNmEng': 'Size',\n   'itmId': '13102766974B.0005',\n   'itmNm': '85~135㎡이하',\n   'itmNmEng': '85~135㎡'},\n  {'objId': '13101766974A',\n   'objNm': '구  분',\n   'objNmEng': 'Classification',\n   'itmId': '13102766974A.0006',\n   'itmNm': '지방소계',\n   'itmNmEng': 'Total(Local)'},\n  {'objId': '13101766974B',\n   'objNm': '규모별',\n   'objNmEng': 'Size',\n   'itmId': '13102766974B.0006',\n   'itmNm': '135㎡초과',\n   'itmNmEng': 'Over 135㎡'},\n  {'objId': '13101766974A',\n   'objNm': '구  분',\n   'objNmEng': 'Classification',\n   'itmId': '13102766974A.0007',\n   'itmNm': '기타광역시',\n   'itmNmEng': 'Other metropolitan city'},\n  {'objId': '13101766974A',\n   'objNm': '구  분',\n   'objNmEng': 'Classification',\n   'itmId': '13102766974A.0008',\n   'itmNm': '부산',\n   'itmNmEng': 'Busan'},\n  {'objId': '13101766974A',\n   'objNm': '구  분',\n   'objNmEng': 'Classification',\n   'itmId': '13102766974A.0009',\n   'itmNm': '대구',\n   'itmNmEng': 'Daegu'},\n  {'objId': '13101766974A',\n   'objNm': '구  분',\n   'objNmEng': 'Classification',\n   'itmId': '13102766974A.0010',\n   'itmNm': '광주',\n   'itmNmEng': 'Gwangju'},\n  {'objId': '13101766974A',\n   'objNm': '구  분',\n   'objNmEng': 'Classification',\n   'itmId': '13102766974A.0011',\n   'itmNm': '대전',\n   'itmNmEng': 'Daejeon'},\n  {'objId': '13101766974A',\n   'objNm': '구  분',\n   'objNmEng': 'Classification',\n   'itmId': '13102766974A.0012',\n   'itmNm': '울산',\n   'itmNmEng': 'Ulsan'},\n  {'objId': '13101766974A',\n   'objNm': '구  분',\n   'objNmEng': 'Classification',\n   'itmId': '13102766974A.0013',\n   'itmNm': '기타지방',\n   'itmNmEng': 'Other Region'},\n  {'objId': '13101766974A',\n   'objNm': '구  분',\n   'objNmEng': 'Classification',\n   'itmId': '13102766974A.0014',\n   'itmNm': '강원',\n   'itmNmEng': 'Gangwon'},\n  {'objId': '13101766974A',\n   'objNm': '구  분',\n   'objNmEng': 'Classification',\n   'itmId': '13102766974A.0015',\n   'itmNm': '충북',\n   'itmNmEng': 'Chungbuk'},\n  {'objId': '13101766974A',\n   'objNm': '구  분',\n   'objNmEng': 'Classification',\n   'itmId': '13102766974A.0016',\n   'itmNm': '충남',\n   'itmNmEng': 'Chungnam'},\n  {'objId': '13101766974A',\n   'objNm': '구  분',\n   'objNmEng': 'Classification',\n   'itmId': '13102766974A.0017',\n   'itmNm': '전북',\n   'itmNmEng': 'Jeonbuk'},\n  {'objId': '13101766974A',\n   'objNm': '구  분',\n   'objNmEng': 'Classification',\n   'itmId': '13102766974A.0018',\n   'itmNm': '전남',\n   'itmNmEng': 'Jeonnam'},\n  {'objId': '13101766974A',\n   'objNm': '구  분',\n   'objNmEng': 'Classification',\n   'itmId': '13102766974A.0019',\n   'itmNm': '경북',\n   'itmNmEng': 'Gyeongbuk'},\n  {'objId': '13101766974A',\n   'objNm': '구  분',\n   'objNmEng': 'Classification',\n   'itmId': '13102766974A.0020',\n   'itmNm': '경남',\n   'itmNmEng': 'Gyeongnam'},\n  {'objId': '13101766974A',\n   'objNm': '구  분',\n   'objNmEng': 'Classification',\n   'itmId': '13102766974A.0021',\n   'itmNm': '제주',\n   'itmNmEng': 'Jeju'},\n  {'objId': '13101766974A',\n   'objNm': '구  분',\n   'objNmEng': 'Classification',\n   'itmId': '13102766974A.0022',\n   'itmNm': '세종',\n   'itmNmEng': 'Sejong'}],\n 'duration': {'prdSe': '월', 'strtPrdDe': '2010.07', 'endPrdDe': '2019.06'}}"
     },
     "metadata": {},
     "output_type": "execute_result",
     "execution_count": 5
    }
   ],
   "source": [
    "kosis.get_table_metainfo(\"116\", \"DT_MLTM_5374\")"
   ],
   "metadata": {
    "collapsed": false,
    "pycharm": {
     "name": "#%%\n",
     "is_executing": false
    }
   }
  },
  {
   "cell_type": "code",
   "execution_count": null,
   "outputs": [],
   "source": [
    "\n"
   ],
   "metadata": {
    "collapsed": false,
    "pycharm": {
     "name": "#%%\n"
    }
   }
  }
 ],
 "metadata": {
  "language_info": {
   "codemirror_mode": {
    "name": "ipython",
    "version": 2
   },
   "file_extension": ".py",
   "mimetype": "text/x-python",
   "name": "python",
   "nbconvert_exporter": "python",
   "pygments_lexer": "ipython2",
   "version": "2.7.6"
  },
  "kernelspec": {
   "name": "python3",
   "language": "python",
   "display_name": "Python 3"
  },
  "pycharm": {
   "stem_cell": {
    "cell_type": "raw",
    "source": [],
    "metadata": {
     "collapsed": false
    }
   }
  }
 },
 "nbformat": 4,
 "nbformat_minor": 0
}
